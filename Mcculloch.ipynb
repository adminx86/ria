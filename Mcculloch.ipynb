{
 "cells": [
  {
   "cell_type": "code",
   "execution_count": 1,
   "id": "698be2e6",
   "metadata": {},
   "outputs": [
    {
     "name": "stdout",
     "output_type": "stream",
     "text": [
      "input table:\n",
      "[[0 0]\n",
      " [0 1]\n",
      " [1 0]\n",
      " [1 1]]\n",
      "dot products:\n",
      "[ 0 -1  1  0]\n",
      "Activation: 0\n",
      "Activation: 0\n",
      "Activation: 1\n",
      "Activation: 0\n"
     ]
    }
   ],
   "source": [
    "import numpy as np\n",
    "\n",
    "# function of checking thresold value \n",
    "def linear_threshold_gate(dot, T):\n",
    "    if dot >= T:\n",
    "        return 1 \n",
    "    else:\n",
    "        return 0\n",
    "\n",
    "# matrix of inputs \n",
    "input_table = np.array([\n",
    "    [0,0], # both no\n",
    "    [0,1], # one no, one yes \n",
    "    [1,0], # one yes, one no \n",
    "    [1,1] # bot yes\n",
    "])\n",
    "weights = np.array([1,-1])\n",
    "T = 1\n",
    "\n",
    "dot_products_sum = input_table @ weights\n",
    "\n",
    "print(f'input table:\\n{input_table}') \n",
    "print(f'dot products:\\n{dot_products_sum}')\n",
    "\n",
    "for i in range(0,4):\n",
    "    activation = linear_threshold_gate(dot_products_sum[i], T) \n",
    "    print(f'Activation: {activation}')"
   ]
  },
  {
   "cell_type": "code",
   "execution_count": null,
   "id": "e4c52fdb",
   "metadata": {},
   "outputs": [],
   "source": []
  }
 ],
 "metadata": {
  "kernelspec": {
   "display_name": "Python 3 (ipykernel)",
   "language": "python",
   "name": "python3"
  },
  "language_info": {
   "codemirror_mode": {
    "name": "ipython",
    "version": 3
   },
   "file_extension": ".py",
   "mimetype": "text/x-python",
   "name": "python",
   "nbconvert_exporter": "python",
   "pygments_lexer": "ipython3",
   "version": "3.11.5"
  }
 },
 "nbformat": 4,
 "nbformat_minor": 5
}
